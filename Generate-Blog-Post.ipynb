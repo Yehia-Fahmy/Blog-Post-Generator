{
 "cells": [
  {
   "cell_type": "markdown",
   "metadata": {},
   "source": [
    "# Install and Import Dependencies"
   ]
  },
  {
   "cell_type": "code",
   "execution_count": 3,
   "metadata": {},
   "outputs": [
    {
     "name": "stdout",
     "output_type": "stream",
     "text": [
      "Requirement already satisfied: transformers in /Users/yehiafahmy/miniconda3/envs/tensorflow/lib/python3.10/site-packages (4.44.0)\n",
      "Requirement already satisfied: requests in /Users/yehiafahmy/miniconda3/envs/tensorflow/lib/python3.10/site-packages (from transformers) (2.28.2)\n",
      "Requirement already satisfied: filelock in /Users/yehiafahmy/miniconda3/envs/tensorflow/lib/python3.10/site-packages (from transformers) (3.15.4)\n",
      "Requirement already satisfied: tokenizers<0.20,>=0.19 in /Users/yehiafahmy/miniconda3/envs/tensorflow/lib/python3.10/site-packages (from transformers) (0.19.1)\n",
      "Requirement already satisfied: tqdm>=4.27 in /Users/yehiafahmy/miniconda3/envs/tensorflow/lib/python3.10/site-packages (from transformers) (4.64.1)\n",
      "Requirement already satisfied: pyyaml>=5.1 in /Users/yehiafahmy/miniconda3/envs/tensorflow/lib/python3.10/site-packages (from transformers) (6.0)\n",
      "Requirement already satisfied: safetensors>=0.4.1 in /Users/yehiafahmy/miniconda3/envs/tensorflow/lib/python3.10/site-packages (from transformers) (0.4.4)\n",
      "Requirement already satisfied: numpy>=1.17 in /Users/yehiafahmy/miniconda3/envs/tensorflow/lib/python3.10/site-packages (from transformers) (1.24.2)\n",
      "Requirement already satisfied: packaging>=20.0 in /Users/yehiafahmy/miniconda3/envs/tensorflow/lib/python3.10/site-packages (from transformers) (23.0)\n",
      "Requirement already satisfied: regex!=2019.12.17 in /Users/yehiafahmy/miniconda3/envs/tensorflow/lib/python3.10/site-packages (from transformers) (2024.7.24)\n",
      "Requirement already satisfied: huggingface-hub<1.0,>=0.23.2 in /Users/yehiafahmy/miniconda3/envs/tensorflow/lib/python3.10/site-packages (from transformers) (0.24.5)\n",
      "Requirement already satisfied: typing-extensions>=3.7.4.3 in /Users/yehiafahmy/miniconda3/envs/tensorflow/lib/python3.10/site-packages (from huggingface-hub<1.0,>=0.23.2->transformers) (4.12.2)\n",
      "Requirement already satisfied: fsspec>=2023.5.0 in /Users/yehiafahmy/miniconda3/envs/tensorflow/lib/python3.10/site-packages (from huggingface-hub<1.0,>=0.23.2->transformers) (2024.6.1)\n",
      "Requirement already satisfied: urllib3<1.27,>=1.21.1 in /Users/yehiafahmy/miniconda3/envs/tensorflow/lib/python3.10/site-packages (from requests->transformers) (1.26.14)\n",
      "Requirement already satisfied: charset-normalizer<4,>=2 in /Users/yehiafahmy/miniconda3/envs/tensorflow/lib/python3.10/site-packages (from requests->transformers) (2.1.1)\n",
      "Requirement already satisfied: certifi>=2017.4.17 in /Users/yehiafahmy/miniconda3/envs/tensorflow/lib/python3.10/site-packages (from requests->transformers) (2022.12.7)\n",
      "Requirement already satisfied: idna<4,>=2.5 in /Users/yehiafahmy/miniconda3/envs/tensorflow/lib/python3.10/site-packages (from requests->transformers) (3.4)\n"
     ]
    }
   ],
   "source": [
    "!pip install transformers\n",
    "import tensorflow as tf\n",
    "from transformers import GPT2LMHeadModel, GPT2Tokenizer"
   ]
  },
  {
   "cell_type": "markdown",
   "metadata": {},
   "source": [
    "# Load Model and Tokenizer"
   ]
  },
  {
   "cell_type": "code",
   "execution_count": 4,
   "metadata": {},
   "outputs": [
    {
     "data": {
      "application/vnd.jupyter.widget-view+json": {
       "model_id": "ac568f26fd9d42fe95b6df62058b312c",
       "version_major": 2,
       "version_minor": 0
      },
      "text/plain": [
       "tokenizer_config.json:   0%|          | 0.00/26.0 [00:00<?, ?B/s]"
      ]
     },
     "metadata": {},
     "output_type": "display_data"
    },
    {
     "data": {
      "application/vnd.jupyter.widget-view+json": {
       "model_id": "d5e0374384a44d298c292c53814b6a10",
       "version_major": 2,
       "version_minor": 0
      },
      "text/plain": [
       "vocab.json:   0%|          | 0.00/1.04M [00:00<?, ?B/s]"
      ]
     },
     "metadata": {},
     "output_type": "display_data"
    },
    {
     "data": {
      "application/vnd.jupyter.widget-view+json": {
       "model_id": "99d5446af633433eb0723f131b8fcd9f",
       "version_major": 2,
       "version_minor": 0
      },
      "text/plain": [
       "merges.txt:   0%|          | 0.00/456k [00:00<?, ?B/s]"
      ]
     },
     "metadata": {},
     "output_type": "display_data"
    },
    {
     "data": {
      "application/vnd.jupyter.widget-view+json": {
       "model_id": "13a74c26bdc944e386bff5c3a25f9bfc",
       "version_major": 2,
       "version_minor": 0
      },
      "text/plain": [
       "tokenizer.json:   0%|          | 0.00/1.36M [00:00<?, ?B/s]"
      ]
     },
     "metadata": {},
     "output_type": "display_data"
    },
    {
     "data": {
      "application/vnd.jupyter.widget-view+json": {
       "model_id": "9683a6e9d22347909aa0e33304757674",
       "version_major": 2,
       "version_minor": 0
      },
      "text/plain": [
       "config.json:   0%|          | 0.00/666 [00:00<?, ?B/s]"
      ]
     },
     "metadata": {},
     "output_type": "display_data"
    },
    {
     "name": "stderr",
     "output_type": "stream",
     "text": [
      "/Users/yehiafahmy/miniconda3/envs/tensorflow/lib/python3.10/site-packages/transformers/tokenization_utils_base.py:1601: FutureWarning: `clean_up_tokenization_spaces` was not set. It will be set to `True` by default. This behavior will be depracted in transformers v4.45, and will be then set to `False` by default. For more details check this issue: https://github.com/huggingface/transformers/issues/31884\n",
      "  warnings.warn(\n"
     ]
    },
    {
     "data": {
      "application/vnd.jupyter.widget-view+json": {
       "model_id": "08c1d81cbf244f91bed8621e3ccb8f70",
       "version_major": 2,
       "version_minor": 0
      },
      "text/plain": [
       "model.safetensors:   0%|          | 0.00/3.25G [00:00<?, ?B/s]"
      ]
     },
     "metadata": {},
     "output_type": "display_data"
    },
    {
     "data": {
      "application/vnd.jupyter.widget-view+json": {
       "model_id": "c9a2490f396d4c849095a424eb549f4d",
       "version_major": 2,
       "version_minor": 0
      },
      "text/plain": [
       "generation_config.json:   0%|          | 0.00/124 [00:00<?, ?B/s]"
      ]
     },
     "metadata": {},
     "output_type": "display_data"
    }
   ],
   "source": [
    "tokenizer = GPT2Tokenizer.from_pretrained(\"gpt2-large\")\n",
    "model = GPT2LMHeadModel.from_pretrained(\"gpt2-large\", pad_token_id=tokenizer.eos_token_id)"
   ]
  },
  {
   "cell_type": "markdown",
   "metadata": {},
   "source": [
    "# Helper Functions"
   ]
  },
  {
   "cell_type": "code",
   "execution_count": 48,
   "metadata": {},
   "outputs": [],
   "source": [
    "def generate_blog_post(prompt, text_length):\n",
    "    tokens = tokenizer.encode(prompt, return_tensors='pt')\n",
    "    output = model.generate(tokens, max_length=text_length, num_beams=5, no_repeat_ngram_size=2, early_stopping=True)\n",
    "    return tokenizer.decode(output[0], skip_special_tokens=True)"
   ]
  },
  {
   "cell_type": "code",
   "execution_count": 52,
   "metadata": {},
   "outputs": [],
   "source": [
    "def save_blog(title, blog):\n",
    "    with open(f\"{title}.txt\", 'w') as f:\n",
    "        f.write(blog)"
   ]
  },
  {
   "cell_type": "markdown",
   "metadata": {},
   "source": [
    "# Perform a Quick Test"
   ]
  },
  {
   "cell_type": "code",
   "execution_count": 50,
   "metadata": {},
   "outputs": [
    {
     "name": "stdout",
     "output_type": "stream",
     "text": [
      "I like to play soccer, i also like ice cream, and i love to watch movies and tv shows with my friends.\n",
      "\n",
      "I have a lot of friends, but i don't really talk to many of them, because i'm too shy\n"
     ]
    }
   ],
   "source": [
    "input = \"I like to play soccer, i also like ice cream\"\n",
    "reply = generate_blog_post(input, 50)\n",
    "print(reply)"
   ]
  },
  {
   "cell_type": "markdown",
   "metadata": {},
   "source": [
    "# Generate a Blog Post"
   ]
  },
  {
   "cell_type": "code",
   "execution_count": 53,
   "metadata": {},
   "outputs": [],
   "source": [
    "title = \"Are AIs really intelligent or just pretending?\"\n",
    "blog = generate_blog_post(title, 500)\n",
    "save_blog(title, blog)"
   ]
  },
  {
   "cell_type": "markdown",
   "metadata": {},
   "source": [
    "# Works Across a Variety of Topics\n",
    "\n",
    "### Sports\n",
    "**\"The Psychology of Winning: What Drives Elite Athletes to Success?\"**\n",
    "\n",
    "### Politics\n",
    "**\"Navigating the Polarization: How to Have Constructive Political Conversations\"**\n",
    "\n",
    "### Health\n",
    "**\"The Impact of Nutrition on Mental Health: What the Latest Research Says\"**"
   ]
  },
  {
   "cell_type": "markdown",
   "metadata": {},
   "source": []
  }
 ],
 "metadata": {
  "kernelspec": {
   "display_name": "Python 3.10 (tensorflow)",
   "language": "python",
   "name": "tensorflow"
  },
  "language_info": {
   "codemirror_mode": {
    "name": "ipython",
    "version": 3
   },
   "file_extension": ".py",
   "mimetype": "text/x-python",
   "name": "python",
   "nbconvert_exporter": "python",
   "pygments_lexer": "ipython3",
   "version": "3.10.9"
  }
 },
 "nbformat": 4,
 "nbformat_minor": 2
}
